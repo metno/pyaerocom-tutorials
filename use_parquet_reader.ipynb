{
 "cells": [
  {
   "cell_type": "markdown",
   "id": "d71ef025-68da-4fb8-906b-f713ce1524e4",
   "metadata": {},
   "source": [
    "# Using the parquet reader from pyaro-readers"
   ]
  },
  {
   "cell_type": "markdown",
   "id": "e5b4869f-d5c1-443e-a300-15be31e02b91",
   "metadata": {},
   "source": [
    "The parquet reader is intended as a format for easily writing and ingesting data for use in pyaerocom. Such data could be a result of complicated pre-processing of data, merging of several data-sources or testing of functionality in pyaerocom.\n",
    "\n",
    "If you require more efficient reading of data, caching of data, or additional functionality one should create a dedicated reader in pyaerocom."
   ]
  },
  {
   "cell_type": "markdown",
   "id": "0e70e2ac-297a-4568-83bd-4d39f48a3639",
   "metadata": {},
   "source": [
    "## Creating a dataset"
   ]
  },
  {
   "cell_type": "markdown",
   "id": "4a2b3882-a8d1-4cba-8580-ed3e1f7f8b15",
   "metadata": {},
   "source": [
    "The dataset must have the minimum columns specified in the below dataset, but one may also pass along other columns such as `country`, `flag`, `altitude`, or `standard_deviation`. The below creates some mock data."
   ]
  },
  {
   "cell_type": "code",
   "execution_count": 1,
   "id": "106b39b4-e864-4122-b9b0-e1a8b286cc72",
   "metadata": {},
   "outputs": [
    {
     "data": {
      "text/html": [
       "<div>\n",
       "<style scoped>\n",
       "    .dataframe tbody tr th:only-of-type {\n",
       "        vertical-align: middle;\n",
       "    }\n",
       "\n",
       "    .dataframe tbody tr th {\n",
       "        vertical-align: top;\n",
       "    }\n",
       "\n",
       "    .dataframe thead th {\n",
       "        text-align: right;\n",
       "    }\n",
       "</style>\n",
       "<table border=\"1\" class=\"dataframe\">\n",
       "  <thead>\n",
       "    <tr style=\"text-align: right;\">\n",
       "      <th></th>\n",
       "      <th>variable</th>\n",
       "      <th>units</th>\n",
       "      <th>start_time</th>\n",
       "      <th>end_time</th>\n",
       "      <th>latitude</th>\n",
       "      <th>longitude</th>\n",
       "      <th>value</th>\n",
       "      <th>station</th>\n",
       "    </tr>\n",
       "  </thead>\n",
       "  <tbody>\n",
       "    <tr>\n",
       "      <th>0</th>\n",
       "      <td>concpm25</td>\n",
       "      <td>ug m^-3</td>\n",
       "      <td>2025-02-28 00:00:00</td>\n",
       "      <td>2025-02-28 01:00:00</td>\n",
       "      <td>63.8167</td>\n",
       "      <td>-22.7167</td>\n",
       "      <td>0.391320</td>\n",
       "      <td>Reykjanes</td>\n",
       "    </tr>\n",
       "    <tr>\n",
       "      <th>1</th>\n",
       "      <td>concpm25</td>\n",
       "      <td>ug m^-3</td>\n",
       "      <td>2025-02-28 01:00:00</td>\n",
       "      <td>2025-02-28 02:00:00</td>\n",
       "      <td>63.8167</td>\n",
       "      <td>-22.7167</td>\n",
       "      <td>0.656607</td>\n",
       "      <td>Reykjanes</td>\n",
       "    </tr>\n",
       "    <tr>\n",
       "      <th>2</th>\n",
       "      <td>concpm25</td>\n",
       "      <td>ug m^-3</td>\n",
       "      <td>2025-02-28 02:00:00</td>\n",
       "      <td>2025-02-28 03:00:00</td>\n",
       "      <td>63.8167</td>\n",
       "      <td>-22.7167</td>\n",
       "      <td>0.417969</td>\n",
       "      <td>Reykjanes</td>\n",
       "    </tr>\n",
       "    <tr>\n",
       "      <th>3</th>\n",
       "      <td>concpm25</td>\n",
       "      <td>ug m^-3</td>\n",
       "      <td>2025-02-28 03:00:00</td>\n",
       "      <td>2025-02-28 04:00:00</td>\n",
       "      <td>63.8167</td>\n",
       "      <td>-22.7167</td>\n",
       "      <td>0.608367</td>\n",
       "      <td>Reykjanes</td>\n",
       "    </tr>\n",
       "    <tr>\n",
       "      <th>4</th>\n",
       "      <td>concpm25</td>\n",
       "      <td>ug m^-3</td>\n",
       "      <td>2025-02-28 04:00:00</td>\n",
       "      <td>2025-02-28 05:00:00</td>\n",
       "      <td>63.8167</td>\n",
       "      <td>-22.7167</td>\n",
       "      <td>0.560482</td>\n",
       "      <td>Reykjanes</td>\n",
       "    </tr>\n",
       "  </tbody>\n",
       "</table>\n",
       "</div>"
      ],
      "text/plain": [
       "   variable    units          start_time            end_time  latitude  \\\n",
       "0  concpm25  ug m^-3 2025-02-28 00:00:00 2025-02-28 01:00:00   63.8167   \n",
       "1  concpm25  ug m^-3 2025-02-28 01:00:00 2025-02-28 02:00:00   63.8167   \n",
       "2  concpm25  ug m^-3 2025-02-28 02:00:00 2025-02-28 03:00:00   63.8167   \n",
       "3  concpm25  ug m^-3 2025-02-28 03:00:00 2025-02-28 04:00:00   63.8167   \n",
       "4  concpm25  ug m^-3 2025-02-28 04:00:00 2025-02-28 05:00:00   63.8167   \n",
       "\n",
       "   longitude     value    station  \n",
       "0   -22.7167  0.391320  Reykjanes  \n",
       "1   -22.7167  0.656607  Reykjanes  \n",
       "2   -22.7167  0.417969  Reykjanes  \n",
       "3   -22.7167  0.608367  Reykjanes  \n",
       "4   -22.7167  0.560482  Reykjanes  "
      ]
     },
     "execution_count": 1,
     "metadata": {},
     "output_type": "execute_result"
    }
   ],
   "source": [
    "import pandas as pd\n",
    "import numpy as np\n",
    "\n",
    "N = 20\n",
    "times = pd.date_range(\"2025-02-28 00:00\", freq=\"1h\", periods=N + 1)\n",
    "\n",
    "dataset = pd.DataFrame(\n",
    "    {\n",
    "        \"variable\": np.repeat(\"concpm25\", N),\n",
    "        \"units\": np.repeat(\"ug m^-3\", N),\n",
    "        \"start_time\": times[:-1],\n",
    "        \"end_time\": times[1:],\n",
    "        \"latitude\": 63.8167,\n",
    "        \"longitude\": -22.7167,\n",
    "        \"value\": np.random.random(N),\n",
    "        \"station\": np.repeat(\"Reykjanes\", N),\n",
    "    }\n",
    ")\n",
    "\n",
    "dataset.to_parquet(\"my_data.pq\")\n",
    "dataset.head()"
   ]
  },
  {
   "cell_type": "markdown",
   "id": "cb47230e-6ba0-4a53-8f17-872c8c8c58e6",
   "metadata": {},
   "source": [
    "## Reading the data"
   ]
  },
  {
   "cell_type": "markdown",
   "id": "f2908e55-76a7-4e22-8140-5249b075a80e",
   "metadata": {},
   "source": [
    "### pyaro"
   ]
  },
  {
   "cell_type": "code",
   "execution_count": 2,
   "id": "ecb2edde-119a-41ae-9ce7-98e736ff5e49",
   "metadata": {},
   "outputs": [
    {
     "name": "stdout",
     "output_type": "stream",
     "text": [
      "[0.39132035 0.65660656 0.41796887 0.60836665 0.56048188 0.08236209\n",
      " 0.15304678 0.9050318  0.37591741 0.13632942 0.4753769  0.05746369\n",
      " 0.00773874 0.14376959 0.70172981 0.58267018 0.21053204 0.66455131\n",
      " 0.16707444 0.94835718]\n"
     ]
    }
   ],
   "source": [
    "import pyaro\n",
    "\n",
    "with pyaro.open_timeseries(\n",
    "    \"parquet\",\n",
    "    \"my_data.pq\",\n",
    "    filters=[],\n",
    ") as ds:\n",
    "    data = ds.data(\"concpm25\")\n",
    "    print(data.values)"
   ]
  },
  {
   "cell_type": "markdown",
   "id": "8ef6448e-0359-4961-be06-4cc65e6ca546",
   "metadata": {},
   "source": [
    "## pyaerocom"
   ]
  },
  {
   "cell_type": "code",
   "execution_count": 3,
   "id": "f13b67da-07d4-4db6-9fc9-ed47324e345b",
   "metadata": {},
   "outputs": [
    {
     "name": "stdout",
     "output_type": "stream",
     "text": [
      "Dataset name: some_name\n",
      "Data directory: my_data.pq\n",
      "Supported variables: ['concpm25']\n",
      "Last revision: n/d\n"
     ]
    }
   ],
   "source": [
    "from pyaerocom.io.pyaro.pyaro_config import PyaroConfig\n",
    "from pyaerocom.io.readungridded import ReadUngridded\n",
    "\n",
    "config = PyaroConfig(\n",
    "    name=\"some_name\",\n",
    "    reader_id=\"parquet\",\n",
    "    filename_or_obj_or_url=\"my_data.pq\",\n",
    "    filters={}\n",
    ")\n",
    "\n",
    "reader = ReadUngridded(configs=[config])\n",
    "print(reader)"
   ]
  },
  {
   "cell_type": "markdown",
   "id": "9d3494e7-e89f-49c0-8f1f-029eb06df468",
   "metadata": {},
   "source": [
    "### aeroval configuration"
   ]
  },
  {
   "cell_type": "code",
   "execution_count": 4,
   "id": "8862f67d-fe2d-4094-bea5-071d545e0e85",
   "metadata": {},
   "outputs": [],
   "source": [
    "from pyaerocom.io.pyaro.pyaro_config import PyaroConfig\n",
    "\n",
    "configuration = \"\"\"{\n",
    "    \"name\": \"some_name\",\n",
    "    \"reader_id\": \"parquet\",\n",
    "    \"filename_or_obj_or_url\": \"my_data.pq\",\n",
    "    \"filters\": {}\n",
    "}\"\"\"\n",
    "\n",
    "config = PyaroConfig.model_validate_json(configuration)"
   ]
  }
 ],
 "metadata": {
  "kernelspec": {
   "display_name": "Python 3 (ipykernel)",
   "language": "python",
   "name": "python3"
  },
  "language_info": {
   "codemirror_mode": {
    "name": "ipython",
    "version": 3
   },
   "file_extension": ".py",
   "mimetype": "text/x-python",
   "name": "python",
   "nbconvert_exporter": "python",
   "pygments_lexer": "ipython3",
   "version": "3.10.12"
  }
 },
 "nbformat": 4,
 "nbformat_minor": 5
}
