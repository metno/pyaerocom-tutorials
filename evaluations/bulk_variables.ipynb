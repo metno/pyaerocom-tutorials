{
 "cells": [
  {
   "cell_type": "markdown",
   "metadata": {},
   "source": [
    "# Evaluating Bulk Variables\n",
    "\n",
    "Some variables, such as relative fractions and wet depositions, are often fractions of other variables. The example we will be looking at here is the (nonsense) fraction of PM10 to O3: $PM10/O3$. Now imagine that we have daily observations, but want to look at the fractions on a monthly timescale. There are two ways of doing this, first is to read the daily observations, calculate the fraction then take the monthly mean of the fraction. This is way PyAerocom normally does all derived variables. But, there is a second way: First you do the monthly mean for the numerator and the denominator in the fraction separately, then take the fraction of the monthly means. This is different from the first method since $E[X/Y] \\neq E[X]/E[Y]$. Variables where we want to use the latter method is called **Bulk Variables**"
   ]
  },
  {
   "cell_type": "markdown",
   "metadata": {},
   "source": [
    "Since PyAerocom isn't well suited to handle bulk variables, PyAeroval has a special way of computing these, facilitated by the `bulkfraction_engine`. In this tutorial we will look at how to use this method in an evaluation to calculate the PM10 to O3 fraction."
   ]
  },
  {
   "cell_type": "markdown",
   "metadata": {},
   "source": [
    "## How Does it Work? (optional)"
   ]
  },
  {
   "cell_type": "markdown",
   "metadata": {},
   "source": [
    "## Setting Up the Evaluation\n",
    "\n",
    "Telling PyAeroval to use bulk variables are not difficult. First we have to download some test data we can use. If you haven't done so in another tutorial, run"
   ]
  },
  {
   "cell_type": "code",
   "execution_count": 7,
   "metadata": {},
   "outputs": [
    {
     "name": "stdout",
     "output_type": "stream",
     "text": [
      "Downloading file 'testdata-minimal.tar.gz.20241120' from 'https://pyaerocom.met.no/pyaerocom-suppl/testdata-minimal.tar.gz.20241120' to '/home/danielh/MyPyaerocom'.\n",
      "Extracting 'testdata-minimal' from '/home/danielh/MyPyaerocom/testdata-minimal.tar.gz.20241120' to '/lustre/storeB/project/fou/kl/emep/People/danielh/projects/pyaerocom/pyaerocom-tutorials/data'\n"
     ]
    }
   ],
   "source": [
    "!  pya getsampledata --extract-dir ../data"
   ]
  },
  {
   "cell_type": "markdown",
   "metadata": {},
   "source": [
    "We start making the config by setting up a normal EMEP model evaluation"
   ]
  },
  {
   "cell_type": "code",
   "execution_count": null,
   "metadata": {},
   "outputs": [
    {
     "ename": "",
     "evalue": "",
     "output_type": "error",
     "traceback": [
      "\u001b[1;31mThe kernel failed to start as the Python Environment '.venv (Python -1.-1.-1)' is no longer available. Consider selecting another kernel or refreshing the list of Python Environments."
     ]
    }
   ],
   "source": [
    "output_dir = <output_dir>\"/data\"\n",
    "coldata_dir = <output_dir>\"/coldata\"\n",
    "exp_pi = <your name>\n",
    "proj_id = \"tutorial\"\n",
    "exp_id = \"bulk\""
   ]
  },
  {
   "cell_type": "code",
   "execution_count": null,
   "metadata": {},
   "outputs": [],
   "source": [
    "CFG = dict(\n",
    "    # Output directories\n",
    "    json_basedir=output_dir,\n",
    "    coldata_basedir=coldata_dir,\n",
    "\n",
    "    # Run options\n",
    "    reanalyse_existing=True,        # if True, existing colocated data files will be deleted\n",
    "    raise_exceptions=True,          # if True, the analysis will stop whenever an error occurs \n",
    "    clear_existing_json=False,      # if True, deletes previous output before running\n",
    "\n",
    "    # Map Options\n",
    "    add_model_maps=False,           # Adds a plot of the whole map. Very slow!!!\n",
    "    only_model_maps=False,          # Adds only plot above, without any other evaluation\n",
    "    filter_name=\"ALL-wMOUNTAINS\",   # Regional filter for analysis\n",
    "    map_zoom=\"Europe\",              # Zoom level. For EMEP, Europe is typically used\n",
    "    regions_how=\"country\",          # Calculates statistics for different regions. Typically \"country\" is used, but that does not work for satellite data\n",
    "\n",
    "    # Time and Frequency Options\n",
    "    ts_type=\"monthly\",              # Colocation frequency (no statistics in higher resolution can be computed)\n",
    "    freqs=[\"monthly\", \"yearly\"],    # Frequencies that are evaluated\n",
    "    main_freq=\"monthly\",            # Frequency that is displayed when opening webpage\n",
    "    periods=[\"2019\"],               # List of years or periods of years that are evaluated. E.g. \"2005\" or \"2001-2020\"\n",
    "    \n",
    "\n",
    "    # Statistical Options\n",
    "    obs_remove_outliers=False,\n",
    "    model_remove_outliers=False,\n",
    "    colocate_time=True,\n",
    "    zeros_to_nan=False,\n",
    "    weighted_stats=True,\n",
    "    annual_stats_constrained=True,\n",
    "    harmonise_units=True,\n",
    "\n",
    "    # Experiment Metadata\n",
    "    exp_pi=exp_pi,\n",
    "    proj_id=proj_id,\n",
    "    exp_id=exp_id,\n",
    "    exp_name=\"Evaluation of EMEP data with bulk variables\",\n",
    "    exp_descr=(\"Evaluation of EMEP data with bulk variables\"),\n",
    "    public=True,\n",
    "\n",
    "    var_order_menu=[\"fraction\"] # Adds variable to menu list, so it is visible at webpage \n",
    ")\n"
   ]
  },
  {
   "cell_type": "code",
   "execution_count": null,
   "metadata": {},
   "outputs": [],
   "source": [
    "folder_EMEP = \"../../data/testdata-minimal/modeldata/EMEP_PM\"\n",
    "\n",
    "EMEP = dict(\n",
    "        model_id=\"EMEP\",\n",
    "        model_data_dir=folder_EMEP,\n",
    "        gridded_reader_id={\"model\": \"ReadMscwCtm\"}, # Tells pyaerocom to use the EMEP reader instead of the default aerocom reader\n",
    "    )\n",
    "\n",
    "MODELS = {\n",
    "    \"EMEP\": EMEP,\n",
    "}\n",
    "\n",
    "CFG[\"model_cfg\"] = MODELS"
   ]
  },
  {
   "cell_type": "markdown",
   "metadata": {},
   "source": [
    "## Adding a new Variable\n",
    "\n",
    "We will be evaluating the variable `fraction`. This does not exist in PyAerocom, so we need to add it as a new variable. For more detail see our [Adding Custom Variables tutorial](https://pyaerocom.readthedocs.io/en/latest/pyaerocom-tutorials/evaluations/add_custom_variables.html)"
   ]
  },
  {
   "cell_type": "code",
   "execution_count": null,
   "metadata": {},
   "outputs": [],
   "source": [
    "from pyaerocom.variable import Variable\n",
    "from pyaerocom import const\n",
    "\n",
    "variables = {\n",
    "    \"fraction\": Variable(var_name=\"fraction\", units=\"1\"), # Defines a new variable\n",
    "}\n",
    "\n",
    "const.register_custom_variables(variables)"
   ]
  },
  {
   "cell_type": "markdown",
   "metadata": {},
   "source": [
    "## Adding Bulk Variables to the Observation Network\n",
    "\n",
    "We will now add an EBAS observations network using pyaro, with a few extra option, which we will look at afterwards"
   ]
  },
  {
   "cell_type": "code",
   "execution_count": null,
   "metadata": {},
   "outputs": [],
   "source": [
    "from pyaerocom.io import PyaroConfig\n",
    "\n",
    "\n",
    "data_id = \"nilupmfebas\"\n",
    "url = \"../../data/testdata-minimal/obsdata/EBASTutorialData\"\n",
    "\n",
    "config = PyaroConfig(\n",
    "    name=\"ebaspyaro\",\n",
    "    reader_id=data_id,\n",
    "    filename_or_obj_or_url=url,\n",
    "    filters={\n",
    "        \"variables\": {\n",
    "            \"include\": [\n",
    "                \"pm10#pm10_mass#ug m-3\",\n",
    "                \"pm25#pm25_mass#ug m-3\",\n",
    "            ]\n",
    "        }\n",
    "    },\n",
    "    name_map={\n",
    "        \"pm25#pm25_mass#ug m-3\": \"concpm25\",\n",
    "        \"pm10#pm10_mass#ug m-3\": \"concpm10\",\n",
    "    },\n",
    ")\n",
    "\n",
    "EBAS= dict(\n",
    "            obs_id=config.name,\n",
    "            pyaro_config=config,\n",
    "            web_interface_name=\"EBAS-m\",\n",
    "            obs_vars=[\n",
    "                \"fraction\"\n",
    "            ],\n",
    "            obs_vert_type=\"Surface\",\n",
    "            ts_type=\"monthly\",\n",
    "            is_bulk=True,\n",
    "            bulk_options={\n",
    "            \"fraction\": dict(\n",
    "                vars=[\"concpm25\", \"concpm10\"],\n",
    "                model_exists=False,\n",
    "                mode=\"fraction\",\n",
    "                units=\"1\",\n",
    "            ),}\n",
    "            \n",
    "        )\n",
    "\n",
    "OBS_CFG = {\n",
    "    \"EBAS-m\": EBAS,\n",
    "}\n",
    "\n",
    "CFG[\"obs_cfg\"] = OBS_CFG"
   ]
  },
  {
   "cell_type": "markdown",
   "metadata": {},
   "source": [
    "As we can see, there are two new options in the observation entry: `is_bulk` and `bulk_options`. \n",
    "\n",
    "`is_bulk`, as the name implies, is an option to tell pyAeroval that this observation entry is for bulk variables. Note that if this is true, then all the variables in `obs_vars` must be bulk variables.\n",
    "\n",
    "`bulk_options` is where we define how to calculate our bulk variable. There are four options that needs to be defines:\n",
    "- `vars`: This is the variables that are going to be combines. There must be exactly two variables in this list. For fraction, the order here is important!\n",
    "- `mode`: This can be `fraction` or `product`, and defines how our original variables are combined\n",
    "- `units`: The units of our resulting bulk variable\n",
    "- `model_exist`: This tells the pyAeroval if our model has the bulk variable, in which case it will be read directly from the model. In our example, this is not the case, and the model variable will thus be calculated the same way as the observation variable, as the fraction `concpm10/conco3`"
   ]
  },
  {
   "cell_type": "markdown",
   "metadata": {},
   "source": [
    "## Running the Evaluation\n",
    "\n",
    "To run the evaluation, download the script [here](./scripts/bulk_variables.py) and run it."
   ]
  }
 ],
 "metadata": {
  "kernelspec": {
   "display_name": ".venv",
   "language": "python",
   "name": "python3"
  },
  "language_info": {
   "codemirror_mode": {
    "name": "ipython",
    "version": 3
   },
   "file_extension": ".py",
   "mimetype": "text/x-python",
   "name": "python",
   "nbconvert_exporter": "python",
   "pygments_lexer": "ipython3",
   "version": "3.12.0"
  }
 },
 "nbformat": 4,
 "nbformat_minor": 2
}
