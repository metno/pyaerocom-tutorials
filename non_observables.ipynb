{
 "cells": [
  {
   "cell_type": "markdown",
   "id": "4b1a9d05-09e7-4109-8e92-9fbf5727b38c",
   "metadata": {},
   "source": [
    "# Include non observables into an aeroval experiment\n",
    "\n",
    "## Synopsis\n",
    "There's model data that one would like to visualise for what no observational data is available.\n",
    "In this case pyaerocom can be used to inter compare several models with each other by analysing\n",
    "the model data \n",
    "1. at station locations given by an observational network\n",
    "2. using one model as comparison and doing the inter comparison grid cell by grid cell\n",
    "\n",
    "\n",
    "| example for #1                                                                                                      | example for #2                                                                                                         |\n",
    "|---------------------------------------------------------------------------------------------------------------------|------------------------------------------------------------------------------------------------------------------------|\n",
    "| ![example for #2](suppl/proxydryoxs-2018_small.png)                                                                 | ![example for #1](suppl/aoddust-2020_small.png)                                                                        |\n",
    "| [aeroval link](https://aeroval.met.no/pages/evaluation/?project=domos-paper&experiment=LIVAS_V4_as_obs&station=ALL) | [aeroval link](https://aeroval.met.no/pages/evaluation/?project=cams2_40_p2&exp_name=aq&station=ALL&experiment=drydep) |\n",
    "\n",
    "\n",
    "Creating so-called proxy data at station locations (#1) needs adjustment of pyaerocom unless the variables have been defined already.\n",
    "The easiest way of showing non-observable data in an aeroval experiment is therefore using some sort of model data for comparison.\n",
    "As long as the data can be read by pyaerocom, it can be used as proxy data for non-observable variables.\n",
    "\n",
    "## aeroval configuration\n",
    "\n",
    "In the case #1 above the configuration will only use the name of the proxyvariable:\n",
    "```python\n",
    "OBS_GROUNDBASED = {\n",
    "    #    EBAS\n",
    "    \"EBAS-m\": dict(\n",
    "        obs_id=\"EBASMC\",\n",
    "        web_interface_name=\"EBAS-m\",\n",
    "        obs_type=\"ungridded\",\n",
    "        ts_type=\"monthly\",\n",
    "        obs_vars=[\"proxydrypm10\",],\n",
    "        obs_vert_type=\"Surface\",\n",
    "    ),\n",
    "}\n",
    "```\n",
    "\n",
    "In the case #2 above (model data as observations) the same part of the aeroval config file looks like this:\n",
    "```python\n",
    "OBS_GROUNDBASED = {\n",
    "    \"LIVASV4-dep\": dict(\n",
    "            # model names it would be used for a different comparison\n",
    "            obs_id=\"LIVAS_V4.domos\",\n",
    "            # variables to use\n",
    "            obs_vars=[\"drydust\", ],\n",
    "            obs_vert_type=\"Surface\",\n",
    "            web_interface_name=\"LIVASV4\",\n",
    "            # regrid model data to 2 degree resolution\n",
    "            # always the same latitudenal and longitudenal resolution at the moment\n",
    "            regrid_res_deg=2,\n",
    "        ),\n",
    "    }\n",
    "```\n",
    "**WARNING**\n",
    "As of the beginning of the year 2025 the model data used **needs** to be interpolated to at least 2 degree (for non-global coverage) or 5 degrees (global coverage).\n",
    "Using a higher resolution will end in too many \"stations\" for the web interface to handle and will take very long to compute.\n",
    "\n"
   ]
  },
  {
   "cell_type": "code",
   "execution_count": null,
   "id": "51e36280-0877-48be-affb-9409f2adef4e",
   "metadata": {},
   "outputs": [],
   "source": []
  }
 ],
 "metadata": {
  "kernelspec": {
   "display_name": "Python 3 (ipykernel)",
   "language": "python",
   "name": "python3"
  },
  "language_info": {
   "codemirror_mode": {
    "name": "ipython",
    "version": 3
   },
   "file_extension": ".py",
   "mimetype": "text/x-python",
   "name": "python",
   "nbconvert_exporter": "python",
   "pygments_lexer": "ipython3",
   "version": "3.12.8"
  }
 },
 "nbformat": 4,
 "nbformat_minor": 5
}
